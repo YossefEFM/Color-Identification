{
 "cells": [
  {
   "cell_type": "code",
   "execution_count": null,
   "id": "3d05b377",
   "metadata": {},
   "outputs": [],
   "source": [
    "import cv2\n",
    "import numpy as np\n",
    "from tensorflow.keras.models import load_model"
   ]
  },
  {
   "cell_type": "code",
   "execution_count": null,
   "id": "30621542",
   "metadata": {},
   "outputs": [],
   "source": [
    "# Load the trained model\n",
    "model = load_model('color_detection_model.h5')  "
   ]
  },
  {
   "cell_type": "code",
   "execution_count": null,
   "id": "23e3b2ae",
   "metadata": {},
   "outputs": [],
   "source": [
    "# Open Camera\n",
    "video_capture = cv2.VideoCapture(0)  \n",
    "\n",
    "# ********************************\n",
    "# Open a video capture object\n",
    "# video_capture = cv2.VideoCapture('path/to/your/video.mp4')"
   ]
  },
  {
   "cell_type": "code",
   "execution_count": null,
   "id": "a0b62ec1",
   "metadata": {},
   "outputs": [],
   "source": [
    "color_classes = ['black','blue','brown','green','grey','orange','pink','purple','red','silver','white','yellow']\n",
    "\n",
    "label_mapping = {idx: color for idx, color in enumerate(color_classes)}"
   ]
  },
  {
   "cell_type": "code",
   "execution_count": null,
   "id": "d17b3eb7",
   "metadata": {},
   "outputs": [],
   "source": [
    "while True:\n",
    "    ret, frame = video_capture.read()\n",
    "\n",
    "    if not ret:\n",
    "        print('Error opening camera')\n",
    "        break  # Break the loop if there are no more frames\n",
    "    # Define regions of interest (ROIs)\n",
    "    roi1 = frame[50:150, 50:150] \n",
    "    roi2 = frame[50:150, 200:300]  \n",
    "    roi3 = frame[50:150, 350:450]\n",
    "\n",
    "\n",
    "    # Preprocess and predict on each ROI\n",
    "    for idx, roi in enumerate([roi1, roi2, roi3]):\n",
    "        roi_resized = cv2.resize(roi, (64, 64)) / 255.0\n",
    "        roi_resized = np.reshape(roi_resized, (1, 64, 64, 3))\n",
    "\n",
    "        prediction = model.predict(roi_resized)\n",
    "        predicted_label = np.argmax(prediction)\n",
    "\n",
    "        if predicted_label in label_mapping:\n",
    "            predicted_color = label_mapping[predicted_label]\n",
    "        else:\n",
    "            predicted_color = 'Unknown'\n",
    "\n",
    "        x1, y1, x2, y2 = 50, 50 + idx * 150, 150, 200 + idx * 150  # Adjust the coordinates based on your ROIs\n",
    "        cv2.rectangle(frame, (x1, y1), (x2, y2), (0, 255, 0), 2)\n",
    "\n",
    "        cv2.putText(frame, f'Predicted Color: {predicted_color}', (x1, y1 - 10), cv2.FONT_HERSHEY_SIMPLEX, 0.5, (255, 255, 255), 2)\n",
    "\n",
    "    cv2.imshow('Real-Time Color Detection', frame)\n",
    "\n",
    "    if cv2.waitKey(1) & 0xFF == ord('q'):\n",
    "        break\n",
    "\n",
    "video_capture.release()\n",
    "cv2.destroyAllWindows()"
   ]
  }
 ],
 "metadata": {
  "kernelspec": {
   "display_name": "Python 3 (ipykernel)",
   "language": "python",
   "name": "python3"
  },
  "language_info": {
   "codemirror_mode": {
    "name": "ipython",
    "version": 3
   },
   "file_extension": ".py",
   "mimetype": "text/x-python",
   "name": "python",
   "nbconvert_exporter": "python",
   "pygments_lexer": "ipython3",
   "version": "3.9.13"
  }
 },
 "nbformat": 4,
 "nbformat_minor": 5
}
